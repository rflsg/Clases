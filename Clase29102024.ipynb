{
  "nbformat": 4,
  "nbformat_minor": 0,
  "metadata": {
    "colab": {
      "provenance": [],
      "authorship_tag": "ABX9TyMKVTApRekBetBkz8AAsLxJ",
      "include_colab_link": true
    },
    "kernelspec": {
      "name": "python3",
      "display_name": "Python 3"
    },
    "language_info": {
      "name": "python"
    }
  },
  "cells": [
    {
      "cell_type": "markdown",
      "metadata": {
        "id": "view-in-github",
        "colab_type": "text"
      },
      "source": [
        "<a href=\"https://colab.research.google.com/github/rflsg/Clases/blob/main/Clase29102024.ipynb\" target=\"_parent\"><img src=\"https://colab.research.google.com/assets/colab-badge.svg\" alt=\"Open In Colab\"/></a>"
      ]
    },
    {
      "cell_type": "code",
      "execution_count": 24,
      "metadata": {
        "colab": {
          "base_uri": "https://localhost:8080/"
        },
        "id": "FTzX7gyJll4X",
        "outputId": "075a8b30-0b76-459f-d0dc-a2e3c5c9918e"
      },
      "outputs": [
        {
          "output_type": "stream",
          "name": "stdout",
          "text": [
            "[ 2  4  7 10]\n",
            "12\n",
            "[ 2  6 10]\n",
            "[5 6 7 8]\n"
          ]
        }
      ],
      "source": [
        "import numpy as np\n",
        "vec=np.array([2,0,-1,4,5,6,7,8,9,10])\n",
        "n=len(vec)\n",
        "print(vec[0:11:3])"
      ]
    },
    {
      "cell_type": "code",
      "source": [
        "import numpy as np\n",
        "mat=np.array([\n",
        "    [1,2,3,4],\n",
        "    [5,6,7,8],\n",
        "    [9,10,11,12]\n",
        "    ])\n",
        "\n",
        "print(mat[-1,-1])\n",
        "print(mat[:,1])\n",
        "print(mat[1,:])\n",
        "print(mat[1,1:4])\n",
        "print(mat[1:3,2])\n",
        "print(mat[1:3,1:4])"
      ],
      "metadata": {
        "colab": {
          "base_uri": "https://localhost:8080/"
        },
        "id": "5Jpt1ohrrDjo",
        "outputId": "0eafe010-6a76-4066-a4ff-75fb780d98d3"
      },
      "execution_count": 34,
      "outputs": [
        {
          "output_type": "stream",
          "name": "stdout",
          "text": [
            "12\n",
            "[ 2  6 10]\n",
            "[5 6 7 8]\n",
            "[6 7 8]\n",
            "[ 7 11]\n",
            "[[ 6  7  8]\n",
            " [10 11 12]]\n",
            "[[ 2  4  6  8]\n",
            " [10 12 14 16]\n",
            " [18 20 22 24]]\n"
          ]
        }
      ]
    },
    {
      "cell_type": "code",
      "source": [
        "import numpy as np\n",
        "a=np.array([1,2,3,4])\n",
        "b=np.array([4,5,6,7])\n",
        "n=len(a)\n",
        "q=[]\n",
        "print(a+b)\n",
        "for i in range(n):\n",
        "  s=a[i]*b[i]\n",
        "  q.append(s)\n",
        "  l=sum(q)\n",
        "\n",
        "print(l)"
      ],
      "metadata": {
        "colab": {
          "base_uri": "https://localhost:8080/"
        },
        "id": "cplQ41tJti0g",
        "outputId": "a7a29705-a765-4529-fcd7-a075787205ec"
      },
      "execution_count": 44,
      "outputs": [
        {
          "output_type": "stream",
          "name": "stdout",
          "text": [
            "[ 5  7  9 11]\n",
            "60\n"
          ]
        }
      ]
    }
  ]
}