{
  "nbformat": 4,
  "nbformat_minor": 0,
  "metadata": {
    "colab": {
      "provenance": [],
      "authorship_tag": "ABX9TyOm/l1L+x0rX6AGbrwETPg1",
      "include_colab_link": true
    },
    "kernelspec": {
      "name": "python3",
      "display_name": "Python 3"
    },
    "language_info": {
      "name": "python"
    }
  },
  "cells": [
    {
      "cell_type": "markdown",
      "metadata": {
        "id": "view-in-github",
        "colab_type": "text"
      },
      "source": [
        "<a href=\"https://colab.research.google.com/github/rflsg/Clases/blob/main/Clase17102024.ipynb\" target=\"_parent\"><img src=\"https://colab.research.google.com/assets/colab-badge.svg\" alt=\"Open In Colab\"/></a>"
      ]
    },
    {
      "cell_type": "code",
      "execution_count": 1,
      "metadata": {
        "colab": {
          "base_uri": "https://localhost:8080/"
        },
        "id": "Fi9_mIhJrbSv",
        "outputId": "f864d58f-9fed-4475-d8e9-b5d2a6537cbb"
      },
      "outputs": [
        {
          "output_type": "execute_result",
          "data": {
            "text/plain": [
              "4"
            ]
          },
          "metadata": {},
          "execution_count": 1
        }
      ],
      "source": [
        "potencia= lambda a:a**2\n",
        "potencia(2)"
      ]
    },
    {
      "cell_type": "code",
      "source": [
        "def mi_funcion(n):\n",
        "  return lambda a: a*n\n",
        "Dobles=mi_funcion(2)\n",
        "Dobles(50)"
      ],
      "metadata": {
        "colab": {
          "base_uri": "https://localhost:8080/"
        },
        "id": "4pCUG6inrqWZ",
        "outputId": "c6b4c1bb-095f-478c-f93e-fac0ca278afd"
      },
      "execution_count": 8,
      "outputs": [
        {
          "output_type": "execute_result",
          "data": {
            "text/plain": [
              "100"
            ]
          },
          "metadata": {},
          "execution_count": 8
        }
      ]
    },
    {
      "cell_type": "code",
      "source": [
        "def ordenada(a,b):\n",
        "  return lambda m: a*m+b\n",
        "\n",
        "Recta=ordenada(2,-1)\n",
        "for i in range(11):\n",
        "  print(\"y= \"+str(Recta(i)))"
      ],
      "metadata": {
        "colab": {
          "base_uri": "https://localhost:8080/"
        },
        "id": "owc-uZu6sXBo",
        "outputId": "cf32595c-d7c2-4a67-a732-399cbf98f070"
      },
      "execution_count": 14,
      "outputs": [
        {
          "output_type": "stream",
          "name": "stdout",
          "text": [
            "y= -1\n",
            "y= 1\n",
            "y= 3\n",
            "y= 5\n",
            "y= 7\n",
            "y= 9\n",
            "y= 11\n",
            "y= 13\n",
            "y= 15\n",
            "y= 17\n",
            "y= 19\n"
          ]
        }
      ]
    },
    {
      "cell_type": "code",
      "source": [
        "def ordenada(a,b):\n",
        "  return lambda m: a*m+b\n",
        "\n",
        "valores=[]\n",
        "Recta=ordenada(2,-1)\n",
        "for i in range(10):\n",
        "  print(valores,i)\n",
        "  valores.append(Recta(i))\n",
        "print(valores)"
      ],
      "metadata": {
        "colab": {
          "base_uri": "https://localhost:8080/"
        },
        "id": "Cb8nXLKYur6G",
        "outputId": "90b13d39-b4c6-4fa3-9ca8-a1c70d77036b"
      },
      "execution_count": 22,
      "outputs": [
        {
          "output_type": "stream",
          "name": "stdout",
          "text": [
            "[] 0\n",
            "[-1] 1\n",
            "[-1, 1] 2\n",
            "[-1, 1, 3] 3\n",
            "[-1, 1, 3, 5] 4\n",
            "[-1, 1, 3, 5, 7] 5\n",
            "[-1, 1, 3, 5, 7, 9] 6\n",
            "[-1, 1, 3, 5, 7, 9, 11] 7\n",
            "[-1, 1, 3, 5, 7, 9, 11, 13] 8\n",
            "[-1, 1, 3, 5, 7, 9, 11, 13, 15] 9\n",
            "[-1, 1, 3, 5, 7, 9, 11, 13, 15, 17]\n"
          ]
        }
      ]
    },
    {
      "cell_type": "code",
      "source": [
        "dic={\"llave1\":5,\n",
        "     \"llave2\": \"Valor2\",\n",
        "     \"llave3\": [1,2,3],\n",
        "     \"llave4\": True\n",
        "      }\n",
        "print(dic.keys())\n",
        "print(dic.values())\n",
        "\n",
        "dic[\"llave6\"]={\"L1\":5,\"L2\":6}\n",
        "print(dic)"
      ],
      "metadata": {
        "colab": {
          "base_uri": "https://localhost:8080/"
        },
        "id": "rJEGp1zrwuAd",
        "outputId": "fd6b69fd-62f9-4a83-bc81-67c5d29eb495"
      },
      "execution_count": 36,
      "outputs": [
        {
          "output_type": "stream",
          "name": "stdout",
          "text": [
            "dict_keys(['llave1', 'llave2', 'llave3', 'llave4'])\n",
            "dict_values([5, 'Valor2', [1, 2, 3], True])\n",
            "{'llave1': 5, 'llave2': 'Valor2', 'llave3': [1, 2, 3], 'llave4': True, 'llave6': {'L1': 5, 'L2': 6}}\n"
          ]
        }
      ]
    },
    {
      "cell_type": "markdown",
      "source": [
        "Hacer un diccionario con 6 personas, poner el nombre de la persona, la edad, si estudia o no y su estatus legal."
      ],
      "metadata": {
        "id": "XUrlNbBO5xUt"
      }
    },
    {
      "cell_type": "code",
      "source": [
        "import pandas as pd\n",
        "\n",
        "datos = {\n",
        "    'Nombre': ['Jose','Pedro','Sofia','Ana'],\n",
        "    'Edad' : [32,19,23,43],\n",
        "    'Estudia' : ['No','Si','Si','No'],\n",
        "    'Estatus' : ['Soltero','Soltero','Soltero','Casado']\n",
        "    }\n",
        "\n",
        "dataframe=pd.DataFrame(datos)\n",
        "print(dataframe)"
      ],
      "metadata": {
        "colab": {
          "base_uri": "https://localhost:8080/"
        },
        "id": "Du98dKn_5wgO",
        "outputId": "6d7751ad-7cd4-4409-c5c9-4b737cf9ed53"
      },
      "execution_count": 39,
      "outputs": [
        {
          "output_type": "stream",
          "name": "stdout",
          "text": [
            "  Nombre  Edad Estudia  Estatus\n",
            "0   Jose    32      No  Soltero\n",
            "1  Pedro    19      Si  Soltero\n",
            "2  Sofia    23      Si  Soltero\n",
            "3    Ana    43      No   Casado\n"
          ]
        }
      ]
    }
  ]
}