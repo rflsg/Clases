{
  "nbformat": 4,
  "nbformat_minor": 0,
  "metadata": {
    "colab": {
      "provenance": [],
      "authorship_tag": "ABX9TyOVlYsj04Y9Hy0c60lXzukl",
      "include_colab_link": true
    },
    "kernelspec": {
      "name": "python3",
      "display_name": "Python 3"
    },
    "language_info": {
      "name": "python"
    }
  },
  "cells": [
    {
      "cell_type": "markdown",
      "metadata": {
        "id": "view-in-github",
        "colab_type": "text"
      },
      "source": [
        "<a href=\"https://colab.research.google.com/github/rflsg/Clases/blob/main/Clase19112024.ipynb\" target=\"_parent\"><img src=\"https://colab.research.google.com/assets/colab-badge.svg\" alt=\"Open In Colab\"/></a>"
      ]
    },
    {
      "cell_type": "code",
      "execution_count": 6,
      "metadata": {
        "colab": {
          "base_uri": "https://localhost:8080/"
        },
        "id": "kW1Etlh0pGXC",
        "outputId": "74b4a7ae-b2c9-45ff-e344-1a1b86763a4c"
      },
      "outputs": [
        {
          "output_type": "stream",
          "name": "stderr",
          "text": [
            "<ipython-input-6-2e3aec0d994e>:38: MatplotlibDeprecationWarning: The tostring_rgb function was deprecated in Matplotlib 3.8 and will be removed two minor releases later. Use buffer_rgba instead.\n",
            "  image=np.frombuffer(fig.canvas.tostring_rgb(),dtype=np.uint8)\n",
            "WARNING:imageio_ffmpeg:IMAGEIO FFMPEG_WRITER WARNING: input image is not divisible by macro_block_size=16, resizing from (800, 600) to (800, 608) to ensure video compatibility with most codecs and players. To prevent resizing, make your input image divisible by the macro_block_size or set the macro_block_size to 1 (risking incompatibility).\n"
          ]
        },
        {
          "output_type": "stream",
          "name": "stdout",
          "text": [
            "Video Guardado como\n"
          ]
        }
      ],
      "source": [
        "import numpy as np\n",
        "import matplotlib.pyplot as plt\n",
        "import imageio.v2 as imageio\n",
        "\n",
        "#Parametros del modelo\n",
        "size=103 #Queremos tratar que en la mitad sea un numero par\n",
        "pos=round(size/2)\n",
        "B=np.zeros(size,dtype=int)#Creamos un array de zeros y forzamos a los valores a int\n",
        "B[pos]=1 #Cambiamos el valor para forzar la condicion\n",
        "\n",
        "class Automata1D:\n",
        "  def __init__ (self,B,name):\n",
        "    #Constructor de la clase\n",
        "    self.B=B\n",
        "    self.name=name\n",
        "    self.size=len(self.B)\n",
        "    self.frame=[] #Lista donde se guardan las imagenes para la simulacion\n",
        "    self.nstep=self.size #Pasos de la simulacion\n",
        "\n",
        "  def Rule104(self,L,C,R):\n",
        "    if L==1 and C==0 and R==0:\n",
        "      return 1\n",
        "    elif L==0 and C==1 and R==0:\n",
        "      return 1\n",
        "    elif L==0 and C==0 and R==1:\n",
        "      return 1\n",
        "    else:\n",
        "      return 0\n",
        "\n",
        "  def plot(self,C):\n",
        "    #crear la figura de cada paso\n",
        "    fig,ax=plt.subplots(figsize=(8,6))\n",
        "    ax.imshow(C,animated=True,aspect='auto',cmap=\"gray\")\n",
        "    ax.axis('off')\n",
        "    plt.close(fig) #Cerrar el canvas para que no se muestre iteracion por iteracion\n",
        "    #convertir la figura en imagen y guardar los frames\n",
        "    fig.canvas.draw()\n",
        "    image=np.frombuffer(fig.canvas.tostring_rgb(),dtype=np.uint8)\n",
        "    image=image.reshape(fig.canvas.get_width_height()[::-1]+(3,))\n",
        "    return image\n",
        "\n",
        "  def Run(self):\n",
        "    C=np.zeros((self.size,self.size),dtype=int)\n",
        "    A=np.copy(self.B) #Vector de la condicion inicial\n",
        "    for k in range(self.nstep):\n",
        "      C[k]=np.copy(A)\n",
        "      # se guardan las imagenes para la simulacion\n",
        "      self.frame.append(self.plot(C))\n",
        "      if self.name==\"Rule104\":\n",
        "        for i in range(self.size):\n",
        "          if i==0:\n",
        "            A[i]=self.Rule104(A[-1],A[0],A[1])\n",
        "          elif i==self.size-1:\n",
        "            A[i]=self.Rule104(A[-2],A[-1],A[0])\n",
        "          else:\n",
        "            A[i]=self.Rule104(A[i-1],A[i],A[i+1])\n",
        "  def save_video(self,filename='Automata1D.mp4',fps=10):\n",
        "      imageio.mimsave(filename,self.frame,fps=fps)\n",
        "      print(f'Video Guardado como')\n",
        "\n",
        "\n",
        "#CREAMOS LA INSTANCIA DE CLASE\n",
        "automata=Automata1D(B,\"Rule104\")\n",
        "automata.Run()\n",
        "automata.save_video('MiPrimerVideo.mp4')\n"
      ]
    }
  ]
}