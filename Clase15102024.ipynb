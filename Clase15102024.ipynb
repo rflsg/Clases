{
  "nbformat": 4,
  "nbformat_minor": 0,
  "metadata": {
    "colab": {
      "provenance": [],
      "authorship_tag": "ABX9TyOMlQZu9spcoS6AOgWLjquY",
      "include_colab_link": true
    },
    "kernelspec": {
      "name": "python3",
      "display_name": "Python 3"
    },
    "language_info": {
      "name": "python"
    }
  },
  "cells": [
    {
      "cell_type": "markdown",
      "metadata": {
        "id": "view-in-github",
        "colab_type": "text"
      },
      "source": [
        "<a href=\"https://colab.research.google.com/github/rflsg/Clases/blob/main/Clase15102024.ipynb\" target=\"_parent\"><img src=\"https://colab.research.google.com/assets/colab-badge.svg\" alt=\"Open In Colab\"/></a>"
      ]
    },
    {
      "cell_type": "code",
      "execution_count": null,
      "metadata": {
        "colab": {
          "base_uri": "https://localhost:8080/"
        },
        "id": "fth_tcsDXF1h",
        "outputId": "475efa56-2912-41d0-ffab-36d5dcce5700"
      },
      "outputs": [
        {
          "output_type": "stream",
          "name": "stdout",
          "text": [
            "Hola, estoy en una funcion\n"
          ]
        }
      ],
      "source": [
        "def mi_funcion():\n",
        "  print(\"Hola, estoy en una funcion\")\n",
        "mi_funcion() #Llamando la funcion."
      ]
    },
    {
      "cell_type": "code",
      "source": [
        "def funcion(nombre,apellido):\n",
        "  print(\"Hola me llamo \"+nombre+apellido)\n",
        "funcion(\"fulano \",\"de tal\")"
      ],
      "metadata": {
        "colab": {
          "base_uri": "https://localhost:8080/"
        },
        "id": "oPLnZYNEYWK9",
        "outputId": "d3abb79e-215d-46a2-a21f-8a17d8f6b9ac"
      },
      "execution_count": null,
      "outputs": [
        {
          "output_type": "stream",
          "name": "stdout",
          "text": [
            "Hola me llamo fulano de tal\n"
          ]
        }
      ]
    },
    {
      "cell_type": "code",
      "source": [
        "def la_funcion(nombre=\"I\",apellido=\"C\"):\n",
        "  print(\"Hola me llamo \"+nombre+apellido)\n",
        "\n",
        "nombre=\"A\"\n",
        "apellido=\"B\"\n",
        "la_funcion(\"j\")\n",
        "print(\"Me llamo \"+nombre+apellido)"
      ],
      "metadata": {
        "colab": {
          "base_uri": "https://localhost:8080/"
        },
        "id": "sL8Z6_R8Z5xW",
        "outputId": "00d225af-7879-429a-814f-795fd40c0c46"
      },
      "execution_count": null,
      "outputs": [
        {
          "output_type": "stream",
          "name": "stdout",
          "text": [
            "Hola me llamo jC\n",
            "Me llamo AB\n"
          ]
        }
      ]
    },
    {
      "cell_type": "code",
      "source": [
        "def el_funcion(nombre=\"I\",apellido=\"C\"):\n",
        "  print(\"Hola me llamo \"+nombre+apellido)\n",
        "\n",
        "el_funcion(apellido=\"A\",nombre=\"B\")"
      ],
      "metadata": {
        "colab": {
          "base_uri": "https://localhost:8080/"
        },
        "id": "xJKAPRBXcwfF",
        "outputId": "3e7097ac-b5a1-4d93-9737-0750ed2da53c"
      },
      "execution_count": null,
      "outputs": [
        {
          "output_type": "stream",
          "name": "stdout",
          "text": [
            "Hola me llamo BA\n"
          ]
        }
      ]
    },
    {
      "cell_type": "code",
      "source": [
        "def Ej(nombre=\"A\",apellido=\"B\",edad=int(1)):\n",
        "  if edad%1==0 and len(nombre)<6:\n",
        "    if edad==1:\n",
        "      print(\"Buenos dias,\",nombre,apellido,\". Hoy tienes: \",int(edad),\"año\")\n",
        "    else:\n",
        "      print(\"Buenos dias,\",nombre,apellido,\". Hoy tienes: \",int(edad),\"años\")\n",
        "  elif len(nombre)>5 or edad%1!=0:\n",
        "    print(\"Su nombre tiene mas de 5 letras o su edad no es un entero.\")\n",
        "\n",
        "nombre=input(\"Ingrese un nombre con menos de 5 letras: \")\n",
        "apellido=input(\"Ingrese un apellido: \")\n",
        "edad=float(input(\"Ingrese una edad: \"))\n",
        "Ej(x,y,z)"
      ],
      "metadata": {
        "colab": {
          "base_uri": "https://localhost:8080/"
        },
        "id": "T9XBhMnEjwqL",
        "outputId": "87d298bc-631c-449d-db5b-119d82bfbfc8"
      },
      "execution_count": null,
      "outputs": [
        {
          "output_type": "stream",
          "name": "stdout",
          "text": [
            "Ingrese un nombre con menos de 5 letras: 1\n",
            "Ingrese un apellido: 1\n",
            "Ingrese una edad: 1\n",
            "Buenos dias,   . Hoy tienes:  1 año\n"
          ]
        }
      ]
    },
    {
      "cell_type": "code",
      "source": [
        "def Datos(Nombre=\"Jesus \", Apellido=\"Lucia\", Edad=25):\n",
        "  if len(Nombre)>5:\n",
        "    print(\"No se acepta tu nombre.\")\n",
        "  else:\n",
        "    if type(Edad)==int:\n",
        "      print(\"Se acepta tu Edad\")\n",
        "      Pres=\"Mi nombre es \"+Nombre+Apellido+\" y tengo\"+str(Edad)+\" años\"\n",
        "      return Pres\n",
        "    else:\n",
        "      print(\"Tampoco se acepta tu Edad\")\n",
        "\n",
        "Datos(\"Jesus\",\"Lucia\",1)"
      ],
      "metadata": {
        "id": "Bkv9BR_RqHu6",
        "colab": {
          "base_uri": "https://localhost:8080/",
          "height": 53
        },
        "outputId": "11eb20a1-bb42-4c69-fcd3-3a23ecf771a0"
      },
      "execution_count": null,
      "outputs": [
        {
          "output_type": "stream",
          "name": "stdout",
          "text": [
            "Se acepta tu Edad\n"
          ]
        },
        {
          "output_type": "execute_result",
          "data": {
            "text/plain": [
              "'Tu nombre es JesusLucia y tengo1 años'"
            ],
            "application/vnd.google.colaboratory.intrinsic+json": {
              "type": "string"
            }
          },
          "metadata": {},
          "execution_count": 116
        }
      ]
    }
  ]
}